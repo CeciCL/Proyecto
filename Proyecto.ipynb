{
  "nbformat": 4,
  "nbformat_minor": 0,
  "metadata": {
    "colab": {
      "name": "Proyecto.ipynb",
      "provenance": []
    },
    "kernelspec": {
      "name": "python3",
      "display_name": "Python 3"
    },
    "language_info": {
      "name": "python"
    }
  },
  "cells": [
    {
      "cell_type": "markdown",
      "metadata": {
        "id": "m_VnUNTUetxW"
      },
      "source": [
        "1. Primero vamos a importar las librerias necesarias"
      ]
    },
    {
      "cell_type": "code",
      "execution_count": 1,
      "metadata": {
        "id": "5KBXuasGK0H2"
      },
      "outputs": [],
      "source": [
        "import numpy as np\n",
        "import pandas as pd\n",
        "\n",
        "from sklearn.linear_model import LogisticRegression\n",
        "from sklearn.ensemble import RandomForestClassifier\n",
        "from sklearn.neighbors import KNeighborsClassifier\n",
        "from sklearn.model_selection import cross_val_score\n",
        "from sklearn.model_selection import validation_curve\n",
        "import matplotlib.pyplot as plt\n",
        "import seaborn as sns"
      ]
    },
    {
      "cell_type": "markdown",
      "metadata": {
        "id": "0pvGdq1BNZex"
      },
      "source": [
        "2. Ahora vamos a conectar drive con nuestro cuaderno, para poder importar nuestra base de datos."
      ]
    },
    {
      "cell_type": "code",
      "execution_count": 2,
      "metadata": {
        "colab": {
          "base_uri": "https://localhost:8080/"
        },
        "id": "waibOMBjfgs3",
        "outputId": "ad71032b-bd8d-416a-ba09-58f796177334"
      },
      "outputs": [
        {
          "output_type": "stream",
          "name": "stdout",
          "text": [
            "Drive already mounted at /content/drive; to attempt to forcibly remount, call drive.mount(\"/content/drive\", force_remount=True).\n"
          ]
        }
      ],
      "source": [
        "from google.colab import drive\n",
        "drive.mount('/content/drive')"
      ]
    },
    {
      "cell_type": "markdown",
      "metadata": {
        "id": "FQREyVBoNZey"
      },
      "source": [
        "3. Cargamos nuestra base de datos."
      ]
    },
    {
      "cell_type": "code",
      "execution_count": 3,
      "metadata": {
        "id": "9tDR_8TtNZey",
        "colab": {
          "base_uri": "https://localhost:8080/"
        },
        "outputId": "ac8cf5e1-e49d-4ed3-cd74-6eb3bcfa3b76"
      },
      "outputs": [
        {
          "output_type": "stream",
          "name": "stderr",
          "text": [
            "/usr/local/lib/python3.7/dist-packages/IPython/core/interactiveshell.py:2882: DtypeWarning: Columns (42) have mixed types.Specify dtype option on import or set low_memory=False.\n",
            "  exec(code_obj, self.user_global_ns, self.user_ns)\n"
          ]
        }
      ],
      "source": [
        "base_de_datos_covid_1= pd.read_csv('/content/drive/MyDrive/Universidad/Tesis/casos-asociados-a-covid-19-support.csv')"
      ]
    },
    {
      "cell_type": "markdown",
      "metadata": {
        "id": "ju3l8xtoNZez"
      },
      "source": [
        "4. Ahora vamos a ver algunos aspectos, para entender nuestros datos."
      ]
    },
    {
      "cell_type": "markdown",
      "source": [
        "4. 1.Imprimir la base de datos."
      ],
      "metadata": {
        "id": "Ei-7ojnok_VP"
      }
    },
    {
      "cell_type": "code",
      "execution_count": 4,
      "metadata": {
        "id": "zXzTkWfPNZez",
        "colab": {
          "base_uri": "https://localhost:8080/",
          "height": 473
        },
        "outputId": "141674eb-c4c9-4770-8b92-a7f70a776b8a"
      },
      "outputs": [
        {
          "output_type": "execute_result",
          "data": {
            "text/plain": [
              "   id fecha_actualizacion id_registro          origen   sector  \\\n",
              "0   0          2020-10-07      1d276b           USMER      SSA   \n",
              "1   1          2020-10-07      0fbbc1  FUERA DE USMER  PRIVADA   \n",
              "2   2          2020-10-07      02331b  FUERA DE USMER     IMSS   \n",
              "3   3          2020-10-07      0973e1           USMER   ISSSTE   \n",
              "4   4          2020-10-07      080c77           USMER     IMSS   \n",
              "\n",
              "         entidad_um    sexo       entidad_nac       entidad_res municipio_res  \\\n",
              "0  CIUDAD DE MÉXICO  HOMBRE  CIUDAD DE MÉXICO  CIUDAD DE MÉXICO  Azcapotzalco   \n",
              "1  CIUDAD DE MÉXICO  HOMBRE  CIUDAD DE MÉXICO  CIUDAD DE MÉXICO    Cuauhtémoc   \n",
              "2  CIUDAD DE MÉXICO   MUJER  CIUDAD DE MÉXICO  CIUDAD DE MÉXICO    Cuauhtémoc   \n",
              "3  CIUDAD DE MÉXICO   MUJER  CIUDAD DE MÉXICO  CIUDAD DE MÉXICO    Iztapalapa   \n",
              "4  CIUDAD DE MÉXICO   MUJER  CIUDAD DE MÉXICO  CIUDAD DE MÉXICO    Iztapalapa   \n",
              "\n",
              "   ... pais_origen        uci rango_edad num_fallecidos num_hospitalizados  \\\n",
              "0  ...   NO APLICA         NO      51-60            1.0                1.0   \n",
              "1  ...   NO APLICA         NO      31-40            NaN                1.0   \n",
              "2  ...   NO APLICA  NO APLICA      81-90            NaN                NaN   \n",
              "3  ...   NO APLICA         NO      31-40            1.0                1.0   \n",
              "4  ...   NO APLICA  NO APLICA      31-40            NaN                NaN   \n",
              "\n",
              "  indigena  toma_muestra clasificacion_final positivo            pendiente  \n",
              "0        2             2                   6      NaN  Resultado pendiente  \n",
              "1        2             2                   6      NaN  Resultado pendiente  \n",
              "2        2             1                   6      NaN  Resultado pendiente  \n",
              "3        2             2                   6      NaN  Resultado pendiente  \n",
              "4        2             2                   6      NaN  Resultado pendiente  \n",
              "\n",
              "[5 rows x 44 columns]"
            ],
            "text/html": [
              "\n",
              "  <div id=\"df-5f6be5ac-103e-4e12-8d01-01f08d70638a\">\n",
              "    <div class=\"colab-df-container\">\n",
              "      <div>\n",
              "<style scoped>\n",
              "    .dataframe tbody tr th:only-of-type {\n",
              "        vertical-align: middle;\n",
              "    }\n",
              "\n",
              "    .dataframe tbody tr th {\n",
              "        vertical-align: top;\n",
              "    }\n",
              "\n",
              "    .dataframe thead th {\n",
              "        text-align: right;\n",
              "    }\n",
              "</style>\n",
              "<table border=\"1\" class=\"dataframe\">\n",
              "  <thead>\n",
              "    <tr style=\"text-align: right;\">\n",
              "      <th></th>\n",
              "      <th>id</th>\n",
              "      <th>fecha_actualizacion</th>\n",
              "      <th>id_registro</th>\n",
              "      <th>origen</th>\n",
              "      <th>sector</th>\n",
              "      <th>entidad_um</th>\n",
              "      <th>sexo</th>\n",
              "      <th>entidad_nac</th>\n",
              "      <th>entidad_res</th>\n",
              "      <th>municipio_res</th>\n",
              "      <th>...</th>\n",
              "      <th>pais_origen</th>\n",
              "      <th>uci</th>\n",
              "      <th>rango_edad</th>\n",
              "      <th>num_fallecidos</th>\n",
              "      <th>num_hospitalizados</th>\n",
              "      <th>indigena</th>\n",
              "      <th>toma_muestra</th>\n",
              "      <th>clasificacion_final</th>\n",
              "      <th>positivo</th>\n",
              "      <th>pendiente</th>\n",
              "    </tr>\n",
              "  </thead>\n",
              "  <tbody>\n",
              "    <tr>\n",
              "      <th>0</th>\n",
              "      <td>0</td>\n",
              "      <td>2020-10-07</td>\n",
              "      <td>1d276b</td>\n",
              "      <td>USMER</td>\n",
              "      <td>SSA</td>\n",
              "      <td>CIUDAD DE MÉXICO</td>\n",
              "      <td>HOMBRE</td>\n",
              "      <td>CIUDAD DE MÉXICO</td>\n",
              "      <td>CIUDAD DE MÉXICO</td>\n",
              "      <td>Azcapotzalco</td>\n",
              "      <td>...</td>\n",
              "      <td>NO APLICA</td>\n",
              "      <td>NO</td>\n",
              "      <td>51-60</td>\n",
              "      <td>1.0</td>\n",
              "      <td>1.0</td>\n",
              "      <td>2</td>\n",
              "      <td>2</td>\n",
              "      <td>6</td>\n",
              "      <td>NaN</td>\n",
              "      <td>Resultado pendiente</td>\n",
              "    </tr>\n",
              "    <tr>\n",
              "      <th>1</th>\n",
              "      <td>1</td>\n",
              "      <td>2020-10-07</td>\n",
              "      <td>0fbbc1</td>\n",
              "      <td>FUERA DE USMER</td>\n",
              "      <td>PRIVADA</td>\n",
              "      <td>CIUDAD DE MÉXICO</td>\n",
              "      <td>HOMBRE</td>\n",
              "      <td>CIUDAD DE MÉXICO</td>\n",
              "      <td>CIUDAD DE MÉXICO</td>\n",
              "      <td>Cuauhtémoc</td>\n",
              "      <td>...</td>\n",
              "      <td>NO APLICA</td>\n",
              "      <td>NO</td>\n",
              "      <td>31-40</td>\n",
              "      <td>NaN</td>\n",
              "      <td>1.0</td>\n",
              "      <td>2</td>\n",
              "      <td>2</td>\n",
              "      <td>6</td>\n",
              "      <td>NaN</td>\n",
              "      <td>Resultado pendiente</td>\n",
              "    </tr>\n",
              "    <tr>\n",
              "      <th>2</th>\n",
              "      <td>2</td>\n",
              "      <td>2020-10-07</td>\n",
              "      <td>02331b</td>\n",
              "      <td>FUERA DE USMER</td>\n",
              "      <td>IMSS</td>\n",
              "      <td>CIUDAD DE MÉXICO</td>\n",
              "      <td>MUJER</td>\n",
              "      <td>CIUDAD DE MÉXICO</td>\n",
              "      <td>CIUDAD DE MÉXICO</td>\n",
              "      <td>Cuauhtémoc</td>\n",
              "      <td>...</td>\n",
              "      <td>NO APLICA</td>\n",
              "      <td>NO APLICA</td>\n",
              "      <td>81-90</td>\n",
              "      <td>NaN</td>\n",
              "      <td>NaN</td>\n",
              "      <td>2</td>\n",
              "      <td>1</td>\n",
              "      <td>6</td>\n",
              "      <td>NaN</td>\n",
              "      <td>Resultado pendiente</td>\n",
              "    </tr>\n",
              "    <tr>\n",
              "      <th>3</th>\n",
              "      <td>3</td>\n",
              "      <td>2020-10-07</td>\n",
              "      <td>0973e1</td>\n",
              "      <td>USMER</td>\n",
              "      <td>ISSSTE</td>\n",
              "      <td>CIUDAD DE MÉXICO</td>\n",
              "      <td>MUJER</td>\n",
              "      <td>CIUDAD DE MÉXICO</td>\n",
              "      <td>CIUDAD DE MÉXICO</td>\n",
              "      <td>Iztapalapa</td>\n",
              "      <td>...</td>\n",
              "      <td>NO APLICA</td>\n",
              "      <td>NO</td>\n",
              "      <td>31-40</td>\n",
              "      <td>1.0</td>\n",
              "      <td>1.0</td>\n",
              "      <td>2</td>\n",
              "      <td>2</td>\n",
              "      <td>6</td>\n",
              "      <td>NaN</td>\n",
              "      <td>Resultado pendiente</td>\n",
              "    </tr>\n",
              "    <tr>\n",
              "      <th>4</th>\n",
              "      <td>4</td>\n",
              "      <td>2020-10-07</td>\n",
              "      <td>080c77</td>\n",
              "      <td>USMER</td>\n",
              "      <td>IMSS</td>\n",
              "      <td>CIUDAD DE MÉXICO</td>\n",
              "      <td>MUJER</td>\n",
              "      <td>CIUDAD DE MÉXICO</td>\n",
              "      <td>CIUDAD DE MÉXICO</td>\n",
              "      <td>Iztapalapa</td>\n",
              "      <td>...</td>\n",
              "      <td>NO APLICA</td>\n",
              "      <td>NO APLICA</td>\n",
              "      <td>31-40</td>\n",
              "      <td>NaN</td>\n",
              "      <td>NaN</td>\n",
              "      <td>2</td>\n",
              "      <td>2</td>\n",
              "      <td>6</td>\n",
              "      <td>NaN</td>\n",
              "      <td>Resultado pendiente</td>\n",
              "    </tr>\n",
              "  </tbody>\n",
              "</table>\n",
              "<p>5 rows × 44 columns</p>\n",
              "</div>\n",
              "      <button class=\"colab-df-convert\" onclick=\"convertToInteractive('df-5f6be5ac-103e-4e12-8d01-01f08d70638a')\"\n",
              "              title=\"Convert this dataframe to an interactive table.\"\n",
              "              style=\"display:none;\">\n",
              "        \n",
              "  <svg xmlns=\"http://www.w3.org/2000/svg\" height=\"24px\"viewBox=\"0 0 24 24\"\n",
              "       width=\"24px\">\n",
              "    <path d=\"M0 0h24v24H0V0z\" fill=\"none\"/>\n",
              "    <path d=\"M18.56 5.44l.94 2.06.94-2.06 2.06-.94-2.06-.94-.94-2.06-.94 2.06-2.06.94zm-11 1L8.5 8.5l.94-2.06 2.06-.94-2.06-.94L8.5 2.5l-.94 2.06-2.06.94zm10 10l.94 2.06.94-2.06 2.06-.94-2.06-.94-.94-2.06-.94 2.06-2.06.94z\"/><path d=\"M17.41 7.96l-1.37-1.37c-.4-.4-.92-.59-1.43-.59-.52 0-1.04.2-1.43.59L10.3 9.45l-7.72 7.72c-.78.78-.78 2.05 0 2.83L4 21.41c.39.39.9.59 1.41.59.51 0 1.02-.2 1.41-.59l7.78-7.78 2.81-2.81c.8-.78.8-2.07 0-2.86zM5.41 20L4 18.59l7.72-7.72 1.47 1.35L5.41 20z\"/>\n",
              "  </svg>\n",
              "      </button>\n",
              "      \n",
              "  <style>\n",
              "    .colab-df-container {\n",
              "      display:flex;\n",
              "      flex-wrap:wrap;\n",
              "      gap: 12px;\n",
              "    }\n",
              "\n",
              "    .colab-df-convert {\n",
              "      background-color: #E8F0FE;\n",
              "      border: none;\n",
              "      border-radius: 50%;\n",
              "      cursor: pointer;\n",
              "      display: none;\n",
              "      fill: #1967D2;\n",
              "      height: 32px;\n",
              "      padding: 0 0 0 0;\n",
              "      width: 32px;\n",
              "    }\n",
              "\n",
              "    .colab-df-convert:hover {\n",
              "      background-color: #E2EBFA;\n",
              "      box-shadow: 0px 1px 2px rgba(60, 64, 67, 0.3), 0px 1px 3px 1px rgba(60, 64, 67, 0.15);\n",
              "      fill: #174EA6;\n",
              "    }\n",
              "\n",
              "    [theme=dark] .colab-df-convert {\n",
              "      background-color: #3B4455;\n",
              "      fill: #D2E3FC;\n",
              "    }\n",
              "\n",
              "    [theme=dark] .colab-df-convert:hover {\n",
              "      background-color: #434B5C;\n",
              "      box-shadow: 0px 1px 3px 1px rgba(0, 0, 0, 0.15);\n",
              "      filter: drop-shadow(0px 1px 2px rgba(0, 0, 0, 0.3));\n",
              "      fill: #FFFFFF;\n",
              "    }\n",
              "  </style>\n",
              "\n",
              "      <script>\n",
              "        const buttonEl =\n",
              "          document.querySelector('#df-5f6be5ac-103e-4e12-8d01-01f08d70638a button.colab-df-convert');\n",
              "        buttonEl.style.display =\n",
              "          google.colab.kernel.accessAllowed ? 'block' : 'none';\n",
              "\n",
              "        async function convertToInteractive(key) {\n",
              "          const element = document.querySelector('#df-5f6be5ac-103e-4e12-8d01-01f08d70638a');\n",
              "          const dataTable =\n",
              "            await google.colab.kernel.invokeFunction('convertToInteractive',\n",
              "                                                     [key], {});\n",
              "          if (!dataTable) return;\n",
              "\n",
              "          const docLinkHtml = 'Like what you see? Visit the ' +\n",
              "            '<a target=\"_blank\" href=https://colab.research.google.com/notebooks/data_table.ipynb>data table notebook</a>'\n",
              "            + ' to learn more about interactive tables.';\n",
              "          element.innerHTML = '';\n",
              "          dataTable['output_type'] = 'display_data';\n",
              "          await google.colab.output.renderOutput(dataTable, element);\n",
              "          const docLink = document.createElement('div');\n",
              "          docLink.innerHTML = docLinkHtml;\n",
              "          element.appendChild(docLink);\n",
              "        }\n",
              "      </script>\n",
              "    </div>\n",
              "  </div>\n",
              "  "
            ]
          },
          "metadata": {},
          "execution_count": 4
        }
      ],
      "source": [
        "base_de_datos_covid_1.head()"
      ]
    },
    {
      "cell_type": "markdown",
      "source": [
        "4. 2.Imprimir la cantidad de datos que tiene nuestra base de datos."
      ],
      "metadata": {
        "id": "ValviqDXlJWX"
      }
    },
    {
      "cell_type": "code",
      "source": [
        "print('Cantidad de datos de la base de datos:\\n', base_de_datos_covid_1.shape)"
      ],
      "metadata": {
        "colab": {
          "base_uri": "https://localhost:8080/"
        },
        "id": "3NHTH2NvIUNZ",
        "outputId": "624eac05-6d35-4f03-8c48-0a2c1b18e6b2"
      },
      "execution_count": 5,
      "outputs": [
        {
          "output_type": "stream",
          "name": "stdout",
          "text": [
            "Cantidad de datos de la base de datos:\n",
            " (489305, 44)\n"
          ]
        }
      ]
    },
    {
      "cell_type": "markdown",
      "source": [
        "4. 3.Imprimir los tipos de datos de nuestra base de datos."
      ],
      "metadata": {
        "id": "o-Bd08bflP6p"
      }
    },
    {
      "cell_type": "code",
      "source": [
        "print('Tipos de datos de la base:\\n', base_de_datos_covid_1.info())"
      ],
      "metadata": {
        "colab": {
          "base_uri": "https://localhost:8080/"
        },
        "id": "HL4NfZZ1IYOn",
        "outputId": "93eedaee-ef31-413a-8c8e-9d32abd84f05"
      },
      "execution_count": 6,
      "outputs": [
        {
          "output_type": "stream",
          "name": "stdout",
          "text": [
            "<class 'pandas.core.frame.DataFrame'>\n",
            "RangeIndex: 489305 entries, 0 to 489304\n",
            "Data columns (total 44 columns):\n",
            " #   Column               Non-Null Count   Dtype  \n",
            "---  ------               --------------   -----  \n",
            " 0   id                   489305 non-null  int64  \n",
            " 1   fecha_actualizacion  489305 non-null  object \n",
            " 2   id_registro          489305 non-null  object \n",
            " 3   origen               489305 non-null  object \n",
            " 4   sector               489305 non-null  object \n",
            " 5   entidad_um           489305 non-null  object \n",
            " 6   sexo                 489305 non-null  object \n",
            " 7   entidad_nac          489305 non-null  object \n",
            " 8   entidad_res          489305 non-null  object \n",
            " 9   municipio_res        412129 non-null  object \n",
            " 10  tipo_paciente        489305 non-null  object \n",
            " 11  fecha_ingreso        489305 non-null  object \n",
            " 12  fecha_sintomas       489305 non-null  object \n",
            " 13  fecha_def            23455 non-null   object \n",
            " 14  intubado             489305 non-null  object \n",
            " 15  neumonia             489305 non-null  object \n",
            " 16  edad                 489305 non-null  int64  \n",
            " 17  nacionalidad         489305 non-null  object \n",
            " 18  embarazo             489305 non-null  object \n",
            " 19  habla_lengua_indi    489305 non-null  object \n",
            " 20  diabetes             489305 non-null  object \n",
            " 21  epoc                 489305 non-null  object \n",
            " 22  asma                 489305 non-null  object \n",
            " 23  inmusupr             489305 non-null  object \n",
            " 24  hipertension         489305 non-null  object \n",
            " 25  otra_com             489305 non-null  object \n",
            " 26  cardiovascular       489305 non-null  object \n",
            " 27  obesidad             489305 non-null  object \n",
            " 28  renal_cronica        489305 non-null  object \n",
            " 29  tabaquismo           489305 non-null  object \n",
            " 30  otro_caso            489305 non-null  object \n",
            " 31  negativo             269109 non-null  object \n",
            " 32  migrante             489305 non-null  object \n",
            " 33  pais_nacionalidad    489305 non-null  object \n",
            " 34  pais_origen          489305 non-null  object \n",
            " 35  uci                  489305 non-null  object \n",
            " 36  rango_edad           489225 non-null  object \n",
            " 37  num_fallecidos       23455 non-null   float64\n",
            " 38  num_hospitalizados   64097 non-null   float64\n",
            " 39  indigena             489305 non-null  int64  \n",
            " 40  toma_muestra         489305 non-null  int64  \n",
            " 41  clasificacion_final  489305 non-null  int64  \n",
            " 42  positivo             161628 non-null  object \n",
            " 43  pendiente            58568 non-null   object \n",
            "dtypes: float64(2), int64(5), object(37)\n",
            "memory usage: 164.3+ MB\n",
            "Tipos de datos de la base:\n",
            " None\n"
          ]
        }
      ]
    },
    {
      "cell_type": "markdown",
      "source": [
        "4. 4.Imprimir el número de datos faltantes por columna."
      ],
      "metadata": {
        "id": "gva9qKVylZpw"
      }
    },
    {
      "cell_type": "code",
      "source": [
        "print('Datos faltantes en la base de datos:\\n', pd.isnull(base_de_datos_covid_1).sum())"
      ],
      "metadata": {
        "colab": {
          "base_uri": "https://localhost:8080/"
        },
        "id": "msbzEUS9IftV",
        "outputId": "a77d12e5-f752-48be-ef55-7794097057f6"
      },
      "execution_count": 7,
      "outputs": [
        {
          "output_type": "stream",
          "name": "stdout",
          "text": [
            "Datos faltantes en la base de datos:\n",
            " id                          0\n",
            "fecha_actualizacion         0\n",
            "id_registro                 0\n",
            "origen                      0\n",
            "sector                      0\n",
            "entidad_um                  0\n",
            "sexo                        0\n",
            "entidad_nac                 0\n",
            "entidad_res                 0\n",
            "municipio_res           77176\n",
            "tipo_paciente               0\n",
            "fecha_ingreso               0\n",
            "fecha_sintomas              0\n",
            "fecha_def              465850\n",
            "intubado                    0\n",
            "neumonia                    0\n",
            "edad                        0\n",
            "nacionalidad                0\n",
            "embarazo                    0\n",
            "habla_lengua_indi           0\n",
            "diabetes                    0\n",
            "epoc                        0\n",
            "asma                        0\n",
            "inmusupr                    0\n",
            "hipertension                0\n",
            "otra_com                    0\n",
            "cardiovascular              0\n",
            "obesidad                    0\n",
            "renal_cronica               0\n",
            "tabaquismo                  0\n",
            "otro_caso                   0\n",
            "negativo               220196\n",
            "migrante                    0\n",
            "pais_nacionalidad           0\n",
            "pais_origen                 0\n",
            "uci                         0\n",
            "rango_edad                 80\n",
            "num_fallecidos         465850\n",
            "num_hospitalizados     425208\n",
            "indigena                    0\n",
            "toma_muestra                0\n",
            "clasificacion_final         0\n",
            "positivo               327677\n",
            "pendiente              430737\n",
            "dtype: int64\n"
          ]
        }
      ]
    },
    {
      "cell_type": "markdown",
      "source": [
        "4. 5.Imprimir las estadísticas de todas las columnas utilizando el parámetro include."
      ],
      "metadata": {
        "id": "OlrxYMUPlgS8"
      }
    },
    {
      "cell_type": "code",
      "source": [
        "base_de_datos_covid_1.describe(include = \"all\")"
      ],
      "metadata": {
        "id": "qEK6PxHGIjeb",
        "outputId": "cc94204a-e9b5-4c89-f791-7a818e3efb2d",
        "colab": {
          "base_uri": "https://localhost:8080/",
          "height": 522
        }
      },
      "execution_count": 8,
      "outputs": [
        {
          "output_type": "execute_result",
          "data": {
            "text/plain": [
              "                  id fecha_actualizacion id_registro          origen  sector  \\\n",
              "count   489305.00000              489305      489305          489305  489305   \n",
              "unique           NaN                   1      489305               2      12   \n",
              "top              NaN          2020-10-07      1d276b  FUERA DE USMER     SSA   \n",
              "freq             NaN              489305           1          382755  364027   \n",
              "mean    244652.00000                 NaN         NaN             NaN     NaN   \n",
              "std     141250.33107                 NaN         NaN             NaN     NaN   \n",
              "min          0.00000                 NaN         NaN             NaN     NaN   \n",
              "25%     122326.00000                 NaN         NaN             NaN     NaN   \n",
              "50%     244652.00000                 NaN         NaN             NaN     NaN   \n",
              "75%     366978.00000                 NaN         NaN             NaN     NaN   \n",
              "max     489304.00000                 NaN         NaN             NaN     NaN   \n",
              "\n",
              "              entidad_um    sexo       entidad_nac       entidad_res  \\\n",
              "count             489305  489305            489305            489305   \n",
              "unique                32       2                33                32   \n",
              "top     CIUDAD DE MÉXICO   MUJER  CIUDAD DE MÉXICO  CIUDAD DE MÉXICO   \n",
              "freq              479299  250099            372011            406810   \n",
              "mean                 NaN     NaN               NaN               NaN   \n",
              "std                  NaN     NaN               NaN               NaN   \n",
              "min                  NaN     NaN               NaN               NaN   \n",
              "25%                  NaN     NaN               NaN               NaN   \n",
              "50%                  NaN     NaN               NaN               NaN   \n",
              "75%                  NaN     NaN               NaN               NaN   \n",
              "max                  NaN     NaN               NaN               NaN   \n",
              "\n",
              "       municipio_res  ... pais_origen        uci rango_edad num_fallecidos  \\\n",
              "count         412129  ...      489305     489305     489225        23455.0   \n",
              "unique            16  ...          50          4         11            NaN   \n",
              "top       Iztapalapa  ...   NO APLICA  NO APLICA      31-40            NaN   \n",
              "freq           58618  ...      488798     425208     106817            NaN   \n",
              "mean             NaN  ...         NaN        NaN        NaN            1.0   \n",
              "std              NaN  ...         NaN        NaN        NaN            0.0   \n",
              "min              NaN  ...         NaN        NaN        NaN            1.0   \n",
              "25%              NaN  ...         NaN        NaN        NaN            1.0   \n",
              "50%              NaN  ...         NaN        NaN        NaN            1.0   \n",
              "75%              NaN  ...         NaN        NaN        NaN            1.0   \n",
              "max              NaN  ...         NaN        NaN        NaN            1.0   \n",
              "\n",
              "       num_hospitalizados       indigena   toma_muestra clasificacion_final  \\\n",
              "count             64097.0  489305.000000  489305.000000       489305.000000   \n",
              "unique                NaN            NaN            NaN                 NaN   \n",
              "top                   NaN            NaN            NaN                 NaN   \n",
              "freq                  NaN            NaN            NaN                 NaN   \n",
              "mean                  1.0       6.023358       1.045922            5.479212   \n",
              "std                   0.0      19.355005       0.209317            1.884631   \n",
              "min                   1.0       1.000000       1.000000            1.000000   \n",
              "25%                   1.0       2.000000       1.000000            3.000000   \n",
              "50%                   1.0       2.000000       1.000000            7.000000   \n",
              "75%                   1.0       2.000000       1.000000            7.000000   \n",
              "max                   1.0      99.000000       2.000000            7.000000   \n",
              "\n",
              "                   positivo            pendiente  \n",
              "count                161628                58568  \n",
              "unique                    1                    1  \n",
              "top     Positivo SARS-CoV-2  Resultado pendiente  \n",
              "freq                 161628                58568  \n",
              "mean                    NaN                  NaN  \n",
              "std                     NaN                  NaN  \n",
              "min                     NaN                  NaN  \n",
              "25%                     NaN                  NaN  \n",
              "50%                     NaN                  NaN  \n",
              "75%                     NaN                  NaN  \n",
              "max                     NaN                  NaN  \n",
              "\n",
              "[11 rows x 44 columns]"
            ],
            "text/html": [
              "\n",
              "  <div id=\"df-1fa0f23d-1916-4cce-a83e-c2a5c86c7405\">\n",
              "    <div class=\"colab-df-container\">\n",
              "      <div>\n",
              "<style scoped>\n",
              "    .dataframe tbody tr th:only-of-type {\n",
              "        vertical-align: middle;\n",
              "    }\n",
              "\n",
              "    .dataframe tbody tr th {\n",
              "        vertical-align: top;\n",
              "    }\n",
              "\n",
              "    .dataframe thead th {\n",
              "        text-align: right;\n",
              "    }\n",
              "</style>\n",
              "<table border=\"1\" class=\"dataframe\">\n",
              "  <thead>\n",
              "    <tr style=\"text-align: right;\">\n",
              "      <th></th>\n",
              "      <th>id</th>\n",
              "      <th>fecha_actualizacion</th>\n",
              "      <th>id_registro</th>\n",
              "      <th>origen</th>\n",
              "      <th>sector</th>\n",
              "      <th>entidad_um</th>\n",
              "      <th>sexo</th>\n",
              "      <th>entidad_nac</th>\n",
              "      <th>entidad_res</th>\n",
              "      <th>municipio_res</th>\n",
              "      <th>...</th>\n",
              "      <th>pais_origen</th>\n",
              "      <th>uci</th>\n",
              "      <th>rango_edad</th>\n",
              "      <th>num_fallecidos</th>\n",
              "      <th>num_hospitalizados</th>\n",
              "      <th>indigena</th>\n",
              "      <th>toma_muestra</th>\n",
              "      <th>clasificacion_final</th>\n",
              "      <th>positivo</th>\n",
              "      <th>pendiente</th>\n",
              "    </tr>\n",
              "  </thead>\n",
              "  <tbody>\n",
              "    <tr>\n",
              "      <th>count</th>\n",
              "      <td>489305.00000</td>\n",
              "      <td>489305</td>\n",
              "      <td>489305</td>\n",
              "      <td>489305</td>\n",
              "      <td>489305</td>\n",
              "      <td>489305</td>\n",
              "      <td>489305</td>\n",
              "      <td>489305</td>\n",
              "      <td>489305</td>\n",
              "      <td>412129</td>\n",
              "      <td>...</td>\n",
              "      <td>489305</td>\n",
              "      <td>489305</td>\n",
              "      <td>489225</td>\n",
              "      <td>23455.0</td>\n",
              "      <td>64097.0</td>\n",
              "      <td>489305.000000</td>\n",
              "      <td>489305.000000</td>\n",
              "      <td>489305.000000</td>\n",
              "      <td>161628</td>\n",
              "      <td>58568</td>\n",
              "    </tr>\n",
              "    <tr>\n",
              "      <th>unique</th>\n",
              "      <td>NaN</td>\n",
              "      <td>1</td>\n",
              "      <td>489305</td>\n",
              "      <td>2</td>\n",
              "      <td>12</td>\n",
              "      <td>32</td>\n",
              "      <td>2</td>\n",
              "      <td>33</td>\n",
              "      <td>32</td>\n",
              "      <td>16</td>\n",
              "      <td>...</td>\n",
              "      <td>50</td>\n",
              "      <td>4</td>\n",
              "      <td>11</td>\n",
              "      <td>NaN</td>\n",
              "      <td>NaN</td>\n",
              "      <td>NaN</td>\n",
              "      <td>NaN</td>\n",
              "      <td>NaN</td>\n",
              "      <td>1</td>\n",
              "      <td>1</td>\n",
              "    </tr>\n",
              "    <tr>\n",
              "      <th>top</th>\n",
              "      <td>NaN</td>\n",
              "      <td>2020-10-07</td>\n",
              "      <td>1d276b</td>\n",
              "      <td>FUERA DE USMER</td>\n",
              "      <td>SSA</td>\n",
              "      <td>CIUDAD DE MÉXICO</td>\n",
              "      <td>MUJER</td>\n",
              "      <td>CIUDAD DE MÉXICO</td>\n",
              "      <td>CIUDAD DE MÉXICO</td>\n",
              "      <td>Iztapalapa</td>\n",
              "      <td>...</td>\n",
              "      <td>NO APLICA</td>\n",
              "      <td>NO APLICA</td>\n",
              "      <td>31-40</td>\n",
              "      <td>NaN</td>\n",
              "      <td>NaN</td>\n",
              "      <td>NaN</td>\n",
              "      <td>NaN</td>\n",
              "      <td>NaN</td>\n",
              "      <td>Positivo SARS-CoV-2</td>\n",
              "      <td>Resultado pendiente</td>\n",
              "    </tr>\n",
              "    <tr>\n",
              "      <th>freq</th>\n",
              "      <td>NaN</td>\n",
              "      <td>489305</td>\n",
              "      <td>1</td>\n",
              "      <td>382755</td>\n",
              "      <td>364027</td>\n",
              "      <td>479299</td>\n",
              "      <td>250099</td>\n",
              "      <td>372011</td>\n",
              "      <td>406810</td>\n",
              "      <td>58618</td>\n",
              "      <td>...</td>\n",
              "      <td>488798</td>\n",
              "      <td>425208</td>\n",
              "      <td>106817</td>\n",
              "      <td>NaN</td>\n",
              "      <td>NaN</td>\n",
              "      <td>NaN</td>\n",
              "      <td>NaN</td>\n",
              "      <td>NaN</td>\n",
              "      <td>161628</td>\n",
              "      <td>58568</td>\n",
              "    </tr>\n",
              "    <tr>\n",
              "      <th>mean</th>\n",
              "      <td>244652.00000</td>\n",
              "      <td>NaN</td>\n",
              "      <td>NaN</td>\n",
              "      <td>NaN</td>\n",
              "      <td>NaN</td>\n",
              "      <td>NaN</td>\n",
              "      <td>NaN</td>\n",
              "      <td>NaN</td>\n",
              "      <td>NaN</td>\n",
              "      <td>NaN</td>\n",
              "      <td>...</td>\n",
              "      <td>NaN</td>\n",
              "      <td>NaN</td>\n",
              "      <td>NaN</td>\n",
              "      <td>1.0</td>\n",
              "      <td>1.0</td>\n",
              "      <td>6.023358</td>\n",
              "      <td>1.045922</td>\n",
              "      <td>5.479212</td>\n",
              "      <td>NaN</td>\n",
              "      <td>NaN</td>\n",
              "    </tr>\n",
              "    <tr>\n",
              "      <th>std</th>\n",
              "      <td>141250.33107</td>\n",
              "      <td>NaN</td>\n",
              "      <td>NaN</td>\n",
              "      <td>NaN</td>\n",
              "      <td>NaN</td>\n",
              "      <td>NaN</td>\n",
              "      <td>NaN</td>\n",
              "      <td>NaN</td>\n",
              "      <td>NaN</td>\n",
              "      <td>NaN</td>\n",
              "      <td>...</td>\n",
              "      <td>NaN</td>\n",
              "      <td>NaN</td>\n",
              "      <td>NaN</td>\n",
              "      <td>0.0</td>\n",
              "      <td>0.0</td>\n",
              "      <td>19.355005</td>\n",
              "      <td>0.209317</td>\n",
              "      <td>1.884631</td>\n",
              "      <td>NaN</td>\n",
              "      <td>NaN</td>\n",
              "    </tr>\n",
              "    <tr>\n",
              "      <th>min</th>\n",
              "      <td>0.00000</td>\n",
              "      <td>NaN</td>\n",
              "      <td>NaN</td>\n",
              "      <td>NaN</td>\n",
              "      <td>NaN</td>\n",
              "      <td>NaN</td>\n",
              "      <td>NaN</td>\n",
              "      <td>NaN</td>\n",
              "      <td>NaN</td>\n",
              "      <td>NaN</td>\n",
              "      <td>...</td>\n",
              "      <td>NaN</td>\n",
              "      <td>NaN</td>\n",
              "      <td>NaN</td>\n",
              "      <td>1.0</td>\n",
              "      <td>1.0</td>\n",
              "      <td>1.000000</td>\n",
              "      <td>1.000000</td>\n",
              "      <td>1.000000</td>\n",
              "      <td>NaN</td>\n",
              "      <td>NaN</td>\n",
              "    </tr>\n",
              "    <tr>\n",
              "      <th>25%</th>\n",
              "      <td>122326.00000</td>\n",
              "      <td>NaN</td>\n",
              "      <td>NaN</td>\n",
              "      <td>NaN</td>\n",
              "      <td>NaN</td>\n",
              "      <td>NaN</td>\n",
              "      <td>NaN</td>\n",
              "      <td>NaN</td>\n",
              "      <td>NaN</td>\n",
              "      <td>NaN</td>\n",
              "      <td>...</td>\n",
              "      <td>NaN</td>\n",
              "      <td>NaN</td>\n",
              "      <td>NaN</td>\n",
              "      <td>1.0</td>\n",
              "      <td>1.0</td>\n",
              "      <td>2.000000</td>\n",
              "      <td>1.000000</td>\n",
              "      <td>3.000000</td>\n",
              "      <td>NaN</td>\n",
              "      <td>NaN</td>\n",
              "    </tr>\n",
              "    <tr>\n",
              "      <th>50%</th>\n",
              "      <td>244652.00000</td>\n",
              "      <td>NaN</td>\n",
              "      <td>NaN</td>\n",
              "      <td>NaN</td>\n",
              "      <td>NaN</td>\n",
              "      <td>NaN</td>\n",
              "      <td>NaN</td>\n",
              "      <td>NaN</td>\n",
              "      <td>NaN</td>\n",
              "      <td>NaN</td>\n",
              "      <td>...</td>\n",
              "      <td>NaN</td>\n",
              "      <td>NaN</td>\n",
              "      <td>NaN</td>\n",
              "      <td>1.0</td>\n",
              "      <td>1.0</td>\n",
              "      <td>2.000000</td>\n",
              "      <td>1.000000</td>\n",
              "      <td>7.000000</td>\n",
              "      <td>NaN</td>\n",
              "      <td>NaN</td>\n",
              "    </tr>\n",
              "    <tr>\n",
              "      <th>75%</th>\n",
              "      <td>366978.00000</td>\n",
              "      <td>NaN</td>\n",
              "      <td>NaN</td>\n",
              "      <td>NaN</td>\n",
              "      <td>NaN</td>\n",
              "      <td>NaN</td>\n",
              "      <td>NaN</td>\n",
              "      <td>NaN</td>\n",
              "      <td>NaN</td>\n",
              "      <td>NaN</td>\n",
              "      <td>...</td>\n",
              "      <td>NaN</td>\n",
              "      <td>NaN</td>\n",
              "      <td>NaN</td>\n",
              "      <td>1.0</td>\n",
              "      <td>1.0</td>\n",
              "      <td>2.000000</td>\n",
              "      <td>1.000000</td>\n",
              "      <td>7.000000</td>\n",
              "      <td>NaN</td>\n",
              "      <td>NaN</td>\n",
              "    </tr>\n",
              "    <tr>\n",
              "      <th>max</th>\n",
              "      <td>489304.00000</td>\n",
              "      <td>NaN</td>\n",
              "      <td>NaN</td>\n",
              "      <td>NaN</td>\n",
              "      <td>NaN</td>\n",
              "      <td>NaN</td>\n",
              "      <td>NaN</td>\n",
              "      <td>NaN</td>\n",
              "      <td>NaN</td>\n",
              "      <td>NaN</td>\n",
              "      <td>...</td>\n",
              "      <td>NaN</td>\n",
              "      <td>NaN</td>\n",
              "      <td>NaN</td>\n",
              "      <td>1.0</td>\n",
              "      <td>1.0</td>\n",
              "      <td>99.000000</td>\n",
              "      <td>2.000000</td>\n",
              "      <td>7.000000</td>\n",
              "      <td>NaN</td>\n",
              "      <td>NaN</td>\n",
              "    </tr>\n",
              "  </tbody>\n",
              "</table>\n",
              "<p>11 rows × 44 columns</p>\n",
              "</div>\n",
              "      <button class=\"colab-df-convert\" onclick=\"convertToInteractive('df-1fa0f23d-1916-4cce-a83e-c2a5c86c7405')\"\n",
              "              title=\"Convert this dataframe to an interactive table.\"\n",
              "              style=\"display:none;\">\n",
              "        \n",
              "  <svg xmlns=\"http://www.w3.org/2000/svg\" height=\"24px\"viewBox=\"0 0 24 24\"\n",
              "       width=\"24px\">\n",
              "    <path d=\"M0 0h24v24H0V0z\" fill=\"none\"/>\n",
              "    <path d=\"M18.56 5.44l.94 2.06.94-2.06 2.06-.94-2.06-.94-.94-2.06-.94 2.06-2.06.94zm-11 1L8.5 8.5l.94-2.06 2.06-.94-2.06-.94L8.5 2.5l-.94 2.06-2.06.94zm10 10l.94 2.06.94-2.06 2.06-.94-2.06-.94-.94-2.06-.94 2.06-2.06.94z\"/><path d=\"M17.41 7.96l-1.37-1.37c-.4-.4-.92-.59-1.43-.59-.52 0-1.04.2-1.43.59L10.3 9.45l-7.72 7.72c-.78.78-.78 2.05 0 2.83L4 21.41c.39.39.9.59 1.41.59.51 0 1.02-.2 1.41-.59l7.78-7.78 2.81-2.81c.8-.78.8-2.07 0-2.86zM5.41 20L4 18.59l7.72-7.72 1.47 1.35L5.41 20z\"/>\n",
              "  </svg>\n",
              "      </button>\n",
              "      \n",
              "  <style>\n",
              "    .colab-df-container {\n",
              "      display:flex;\n",
              "      flex-wrap:wrap;\n",
              "      gap: 12px;\n",
              "    }\n",
              "\n",
              "    .colab-df-convert {\n",
              "      background-color: #E8F0FE;\n",
              "      border: none;\n",
              "      border-radius: 50%;\n",
              "      cursor: pointer;\n",
              "      display: none;\n",
              "      fill: #1967D2;\n",
              "      height: 32px;\n",
              "      padding: 0 0 0 0;\n",
              "      width: 32px;\n",
              "    }\n",
              "\n",
              "    .colab-df-convert:hover {\n",
              "      background-color: #E2EBFA;\n",
              "      box-shadow: 0px 1px 2px rgba(60, 64, 67, 0.3), 0px 1px 3px 1px rgba(60, 64, 67, 0.15);\n",
              "      fill: #174EA6;\n",
              "    }\n",
              "\n",
              "    [theme=dark] .colab-df-convert {\n",
              "      background-color: #3B4455;\n",
              "      fill: #D2E3FC;\n",
              "    }\n",
              "\n",
              "    [theme=dark] .colab-df-convert:hover {\n",
              "      background-color: #434B5C;\n",
              "      box-shadow: 0px 1px 3px 1px rgba(0, 0, 0, 0.15);\n",
              "      filter: drop-shadow(0px 1px 2px rgba(0, 0, 0, 0.3));\n",
              "      fill: #FFFFFF;\n",
              "    }\n",
              "  </style>\n",
              "\n",
              "      <script>\n",
              "        const buttonEl =\n",
              "          document.querySelector('#df-1fa0f23d-1916-4cce-a83e-c2a5c86c7405 button.colab-df-convert');\n",
              "        buttonEl.style.display =\n",
              "          google.colab.kernel.accessAllowed ? 'block' : 'none';\n",
              "\n",
              "        async function convertToInteractive(key) {\n",
              "          const element = document.querySelector('#df-1fa0f23d-1916-4cce-a83e-c2a5c86c7405');\n",
              "          const dataTable =\n",
              "            await google.colab.kernel.invokeFunction('convertToInteractive',\n",
              "                                                     [key], {});\n",
              "          if (!dataTable) return;\n",
              "\n",
              "          const docLinkHtml = 'Like what you see? Visit the ' +\n",
              "            '<a target=\"_blank\" href=https://colab.research.google.com/notebooks/data_table.ipynb>data table notebook</a>'\n",
              "            + ' to learn more about interactive tables.';\n",
              "          element.innerHTML = '';\n",
              "          dataTable['output_type'] = 'display_data';\n",
              "          await google.colab.output.renderOutput(dataTable, element);\n",
              "          const docLink = document.createElement('div');\n",
              "          docLink.innerHTML = docLinkHtml;\n",
              "          element.appendChild(docLink);\n",
              "        }\n",
              "      </script>\n",
              "    </div>\n",
              "  </div>\n",
              "  "
            ]
          },
          "metadata": {},
          "execution_count": 8
        }
      ]
    },
    {
      "cell_type": "markdown",
      "metadata": {
        "id": "YNodd_voNZe0"
      },
      "source": [
        "5. Vamos a ir cambiando los tipos de datos según sea conveniente."
      ]
    },
    {
      "cell_type": "markdown",
      "metadata": {
        "id": "MY9qq8aQNZe0"
      },
      "source": [
        "5. 1.Columna de \"origen\"."
      ]
    },
    {
      "cell_type": "code",
      "execution_count": 9,
      "metadata": {
        "id": "5qdo1zcGNZe1"
      },
      "outputs": [],
      "source": [
        "# Ahora vamos a cambiar los datos de origen por valores numéricos\n",
        "base_de_datos_covid_1['origen'].replace(['USMER', 'FUERA DE USMER'],[0,1],inplace=True)"
      ]
    },
    {
      "cell_type": "markdown",
      "metadata": {
        "id": "FFV84qTONZe1"
      },
      "source": [
        "5. 2.Columna de \"sector\"."
      ]
    },
    {
      "cell_type": "code",
      "execution_count": 10,
      "metadata": {
        "id": "64p002vhNZe1"
      },
      "outputs": [],
      "source": [
        "# Ahora vamos a cambiar los datos de origen por valores numéricos\n",
        "base_de_datos_covid_1['sector'].replace(['SSA','PRIVADA','IMSS','ISSSTE','SEDEMA','SEMAR','PEMEX','ESTATAL',\n",
        "                                         'CRUZ ROJA','IMSS-BIENESTAR','UNIVERSITARIO','DIF'],[0,1,2,3,4,5,6,7,8,9,10,11],\n",
        "                                        inplace=True)"
      ]
    },
    {
      "cell_type": "markdown",
      "metadata": {
        "id": "pS_gCNoCNZe2"
      },
      "source": [
        "5. 3.Columna de \"sexo\"."
      ]
    },
    {
      "cell_type": "code",
      "execution_count": 11,
      "metadata": {
        "id": "E4an4mPkNZe2"
      },
      "outputs": [],
      "source": [
        "# Voy a cambias los datos de sexo por valores numéricos\n",
        "base_de_datos_covid_1['sexo'].replace(['MUJER','HOMBRE'],[0,1],inplace=True)"
      ]
    },
    {
      "cell_type": "markdown",
      "metadata": {
        "id": "IXtUtDSPNZe2"
      },
      "source": [
        "5. 4.Columna de \"tipo_paciente\"."
      ]
    },
    {
      "cell_type": "code",
      "execution_count": 12,
      "metadata": {
        "id": "tWpDzpoqNZe3"
      },
      "outputs": [],
      "source": [
        "# Voy a cambias los datos de tipo_paciente por valores numéricos\n",
        "base_de_datos_covid_1['tipo_paciente'].replace(['HOSPITALIZADO','AMBULATORIO'],[0,1],inplace=True)"
      ]
    },
    {
      "cell_type": "markdown",
      "metadata": {
        "id": "9OJAaq-NNZe3"
      },
      "source": [
        "5. 5.Columna de \"intubado\"."
      ]
    },
    {
      "cell_type": "code",
      "execution_count": 13,
      "metadata": {
        "id": "BerZxwsTNZe3"
      },
      "outputs": [],
      "source": [
        "# Voy a cambias los datos de intubado por valores numéricos\n",
        "base_de_datos_covid_1['intubado'].replace(['SI','NO','NO APLICA','NO ESPECIFICADO'],[0,1,2,3],inplace=True)"
      ]
    },
    {
      "cell_type": "markdown",
      "metadata": {
        "id": "VcQOLuNANZe4"
      },
      "source": [
        "5. 6.Columna de \"neumonia\"."
      ]
    },
    {
      "cell_type": "code",
      "execution_count": 14,
      "metadata": {
        "id": "ojwCOdGgNZe4"
      },
      "outputs": [],
      "source": [
        "# Voy a cambias los datos de neumonia por valores numéricos\n",
        "base_de_datos_covid_1['neumonia'].replace(['SI','NO','NO ESPECIFICADO'],[0,1,2],inplace=True)"
      ]
    },
    {
      "cell_type": "markdown",
      "metadata": {
        "id": "8cHAj7liNZe5"
      },
      "source": [
        "5. 7.Columna de \"embarazo\"."
      ]
    },
    {
      "cell_type": "code",
      "execution_count": 15,
      "metadata": {
        "id": "VnY8fWE2NZe5"
      },
      "outputs": [],
      "source": [
        "# Voy a cambias los datos de embarazo por valores numéricos\n",
        "base_de_datos_covid_1['embarazo'].replace(['SI','NO','NO APLICA','SE IGNORA'],[0,1,2,3],inplace=True)"
      ]
    },
    {
      "cell_type": "markdown",
      "metadata": {
        "id": "jYoTi8dWNZe5"
      },
      "source": [
        "5. 8.Columna de \"diabetes\"."
      ]
    },
    {
      "cell_type": "code",
      "execution_count": 16,
      "metadata": {
        "id": "qrs8ZNHZNZe6"
      },
      "outputs": [],
      "source": [
        "# Voy a cambias los datos de diabetes por valores numéricos\n",
        "base_de_datos_covid_1['diabetes'].replace(['SI','NO','SE IGNORA'],[0,1,2],inplace=True)"
      ]
    },
    {
      "cell_type": "markdown",
      "metadata": {
        "id": "gbPFsR41NZe6"
      },
      "source": [
        "5. 9.Columna de \"epoc\"."
      ]
    },
    {
      "cell_type": "code",
      "execution_count": 17,
      "metadata": {
        "id": "lJaGEPB6NZe6"
      },
      "outputs": [],
      "source": [
        "# Voy a cambias los datos de epoc por valores numéricos\n",
        "base_de_datos_covid_1['epoc'].replace(['SI','NO','SE IGNORA'],[0,1,2],inplace=True)"
      ]
    },
    {
      "cell_type": "markdown",
      "metadata": {
        "id": "0SLq0k_uNZe7"
      },
      "source": [
        "5. 10.Columna de \"asma\"."
      ]
    },
    {
      "cell_type": "code",
      "execution_count": 18,
      "metadata": {
        "id": "o1wyv46kNZe7"
      },
      "outputs": [],
      "source": [
        "# Voy a cambias los datos de asma por valores numéricos\n",
        "base_de_datos_covid_1['asma'].replace(['SI','NO','SE IGNORA'],[0,1,2],inplace=True)"
      ]
    },
    {
      "cell_type": "markdown",
      "metadata": {
        "id": "-I_ebb2mNZe7"
      },
      "source": [
        "5. 11.Columna de \"inmusupr\"."
      ]
    },
    {
      "cell_type": "code",
      "execution_count": 19,
      "metadata": {
        "id": "qZYoHsJqNZe9"
      },
      "outputs": [],
      "source": [
        "# Voy a cambias los datos de inmusupr por valores numéricos\n",
        "base_de_datos_covid_1['inmusupr'].replace(['SI','NO','SE IGNORA'],[0,1,2],inplace=True)"
      ]
    },
    {
      "cell_type": "markdown",
      "metadata": {
        "id": "Msp1iV7FNZe-"
      },
      "source": [
        "5. 12.Columna de \"hipertension\"."
      ]
    },
    {
      "cell_type": "code",
      "execution_count": 20,
      "metadata": {
        "id": "bLDFbz-6NZe-"
      },
      "outputs": [],
      "source": [
        "# Voy a cambias los datos de hipertension por valores numéricos\n",
        "base_de_datos_covid_1['hipertension'].replace(['SI','NO','SE IGNORA'],[0,1,2],inplace=True)"
      ]
    },
    {
      "cell_type": "markdown",
      "metadata": {
        "id": "CNjO_9ZWNZe_"
      },
      "source": [
        "5. 13.Columna de \"otra_com\"."
      ]
    },
    {
      "cell_type": "code",
      "execution_count": 21,
      "metadata": {
        "id": "vvLBmrhuNZe_"
      },
      "outputs": [],
      "source": [
        "# Voy a cambias los datos de otra_com por valores numéricos\n",
        "base_de_datos_covid_1['otra_com'].replace(['SI','NO','SE IGNORA'],[0,1,2],inplace=True)"
      ]
    },
    {
      "cell_type": "markdown",
      "metadata": {
        "id": "vGzjNdi1NZfA"
      },
      "source": [
        "5. 14.Columna de \"cardiovascular\"."
      ]
    },
    {
      "cell_type": "code",
      "execution_count": 22,
      "metadata": {
        "id": "OX_4yhfGNZfA"
      },
      "outputs": [],
      "source": [
        "# Voy a cambias los datos de cardiovascular por valores numéricos\n",
        "base_de_datos_covid_1['cardiovascular'].replace(['SI','NO','SE IGNORA'],[0,1,2],inplace=True)"
      ]
    },
    {
      "cell_type": "markdown",
      "metadata": {
        "id": "aIwrVjsWNZfB"
      },
      "source": [
        "5. 15.Columan de \"obesidad\"."
      ]
    },
    {
      "cell_type": "code",
      "execution_count": 23,
      "metadata": {
        "id": "UOq-mXcDNZfB"
      },
      "outputs": [],
      "source": [
        "# Voy a cambias los datos de obesidad por valores numéricos\n",
        "base_de_datos_covid_1['obesidad'].replace(['SI','NO','SE IGNORA'],[0,1,2],inplace=True)"
      ]
    },
    {
      "cell_type": "markdown",
      "metadata": {
        "id": "NOIltw16NZfB"
      },
      "source": [
        "5. 16.Columna de \"renal_cronica\"."
      ]
    },
    {
      "cell_type": "code",
      "execution_count": 24,
      "metadata": {
        "id": "vzDfNNyqNZfC"
      },
      "outputs": [],
      "source": [
        "# Voy a cambias los datos de renal_cronica por valores numéricos\n",
        "base_de_datos_covid_1['renal_cronica'].replace(['SI','NO','SE IGNORA'],[0,1,2],inplace=True)"
      ]
    },
    {
      "cell_type": "markdown",
      "metadata": {
        "id": "MSzOcLbuNZfC"
      },
      "source": [
        "5. 17.Columna de \"tabaquismo\"."
      ]
    },
    {
      "cell_type": "code",
      "execution_count": 25,
      "metadata": {
        "id": "HYt16kzONZfC"
      },
      "outputs": [],
      "source": [
        "# Voy a cambias los datos de tabaquismo por valores numéricos\n",
        "base_de_datos_covid_1['tabaquismo'].replace(['SI','NO','SE IGNORA'],[0,1,2],inplace=True)"
      ]
    },
    {
      "cell_type": "markdown",
      "metadata": {
        "id": "0p_oExEGNZfD"
      },
      "source": [
        "5. 18.Columna de \"otro_caso\"."
      ]
    },
    {
      "cell_type": "code",
      "execution_count": 26,
      "metadata": {
        "id": "tIqTYWohNZfD"
      },
      "outputs": [],
      "source": [
        "# Voy a cambias los datos de otro_caso por valores numéricos\n",
        "base_de_datos_covid_1['otro_caso'].replace(['SI','NO','NO ESPECIFICADO'],[0,1,2],inplace=True)"
      ]
    },
    {
      "cell_type": "markdown",
      "metadata": {
        "id": "RM8qKRP6NZfD"
      },
      "source": [
        "5. 19.Columna de \"uci\"."
      ]
    },
    {
      "cell_type": "code",
      "execution_count": 27,
      "metadata": {
        "id": "FBOUF3RJNZfE"
      },
      "outputs": [],
      "source": [
        "# Voy a cambias los datos de uci  por valores numéricos\n",
        "base_de_datos_covid_1['uci'].replace(['SI','NO','NO APLICA','NO ESPECIFICADO'],[0,1,2,3],inplace=True)"
      ]
    },
    {
      "cell_type": "markdown",
      "metadata": {
        "id": "73JGeD7gNZfF"
      },
      "source": [
        "6. Ahora vamos a eliminar las columnas que no necesitamos."
      ]
    },
    {
      "cell_type": "code",
      "execution_count": 28,
      "metadata": {
        "id": "WDbF-76SNZfF"
      },
      "outputs": [],
      "source": [
        "base_de_datos_covid = base_de_datos_covid_1.drop(['id','id_registro','fecha_actualizacion','entidad_um','entidad_nac',\n",
        "                                                  'entidad_res','municipio_res','fecha_ingreso','fecha_sintomas',\n",
        "                                                  'fecha_def','nacionalidad','habla_lengua_indi','negativo','migrante',\n",
        "                                                  'pais_nacionalidad','pais_origen','rango_edad','num_fallecidos',\n",
        "                                                  'num_hospitalizados','indigena','toma_muestra','positivo','pendiente'], axis=1)"
      ]
    },
    {
      "cell_type": "markdown",
      "metadata": {
        "id": "9CvectaLNZfF"
      },
      "source": [
        "7. Luego vamos a eliminar los datos que no son de ayuda para nuestro modelo."
      ]
    },
    {
      "cell_type": "markdown",
      "metadata": {
        "id": "iWpZhdJ0NZfG"
      },
      "source": [
        "7. 1.Pues para empezar dado que nuestra clase es intubado-No intubado, notemos que no nos interesan los pacientes ambulatorios, pues dicho tipo de paciente no son hospitalizados y por consiguiente no son intubados, por lo cual solo vamos a tomar en cuenta los pacientes clasificados como \"HOSPITALIZADO\"."
      ]
    },
    {
      "cell_type": "code",
      "execution_count": 29,
      "metadata": {
        "id": "QdYIszFpNZfG"
      },
      "outputs": [],
      "source": [
        "# Los pacientes hospitalizados son todos aquellos que son 0 entonces solo considerearemos los datos que son iguales a 0.\n",
        "hospitalizado = base_de_datos_covid['tipo_paciente'] == 0\n",
        "\n",
        "#Filtramos los pacientes Hospitalizados en la base de datos\n",
        "base_de_datos_de_covid = base_de_datos_covid[hospitalizado]\n",
        "\n",
        "base_de_datos_de_covid = base_de_datos_de_covid.drop(['tipo_paciente'], axis=1)"
      ]
    },
    {
      "cell_type": "markdown",
      "metadata": {
        "id": "jkKqQgGPNZfG"
      },
      "source": [
        "7. 2.De igual forma notemos que en la columna intubado, tenemos las clases 'SI' = 0,'NO' = 1,'NO APLICA' = 2 y 'NO ESPECIFICADO'=3, pero a nosotros únicamente nos interesan las clases 'SI' = 0 y 'NO' = 1, por lo cual vamos a eliminar las clases que no nos interesan."
      ]
    },
    {
      "cell_type": "code",
      "execution_count": 30,
      "metadata": {
        "id": "hBqsf6XPNZfG"
      },
      "outputs": [],
      "source": [
        "# Los pacientes hospitalizados son todos aquellos que son 0 entonces solo considerearemos los datos que son iguales a 0.\n",
        "intubados = base_de_datos_covid['intubado'] <= 1\n",
        "\n",
        "#Filtramos los pacientes Hospitalizados en la base de datos\n",
        "base_de_datos_de_covid = base_de_datos_covid[intubados]"
      ]
    },
    {
      "cell_type": "markdown",
      "source": [
        "8. Ahora vamos a ver como quedo la base de datos despues de todo el preprocesamiento."
      ],
      "metadata": {
        "id": "8liryrIGdjVJ"
      }
    },
    {
      "cell_type": "code",
      "execution_count": 31,
      "metadata": {
        "id": "5k3H7E-LNZfH",
        "colab": {
          "base_uri": "https://localhost:8080/",
          "height": 299
        },
        "outputId": "cdb29572-f5b6-4c6a-c74e-cd176a3e6fc0"
      },
      "outputs": [
        {
          "output_type": "execute_result",
          "data": {
            "text/plain": [
              "   origen  sector  sexo  tipo_paciente  intubado  neumonia  edad  embarazo  \\\n",
              "0       0       0     1              0         0         0    58         2   \n",
              "1       1       1     1              0         1         0    31         2   \n",
              "3       0       3     0              0         1         0    34         1   \n",
              "6       0       2     1              0         1         1    50         2   \n",
              "9       1       2     1              0         1         0    59         2   \n",
              "\n",
              "   diabetes  epoc  ...  inmusupr  hipertension  otra_com  cardiovascular  \\\n",
              "0         1     1  ...         1             1         1               1   \n",
              "1         1     1  ...         1             1         1               1   \n",
              "3         1     1  ...         1             1         1               1   \n",
              "6         1     1  ...         1             0         1               1   \n",
              "9         0     1  ...         1             0         1               1   \n",
              "\n",
              "   obesidad  renal_cronica  tabaquismo  otro_caso  uci  clasificacion_final  \n",
              "0         1              1           1          2    1                    6  \n",
              "1         1              1           1          1    1                    6  \n",
              "3         1              1           1          1    1                    6  \n",
              "6         1              1           1          2    1                    6  \n",
              "9         1              1           1          2    1                    6  \n",
              "\n",
              "[5 rows x 21 columns]"
            ],
            "text/html": [
              "\n",
              "  <div id=\"df-f30e779e-7f31-4ffb-b490-ef7c9dfb7e96\">\n",
              "    <div class=\"colab-df-container\">\n",
              "      <div>\n",
              "<style scoped>\n",
              "    .dataframe tbody tr th:only-of-type {\n",
              "        vertical-align: middle;\n",
              "    }\n",
              "\n",
              "    .dataframe tbody tr th {\n",
              "        vertical-align: top;\n",
              "    }\n",
              "\n",
              "    .dataframe thead th {\n",
              "        text-align: right;\n",
              "    }\n",
              "</style>\n",
              "<table border=\"1\" class=\"dataframe\">\n",
              "  <thead>\n",
              "    <tr style=\"text-align: right;\">\n",
              "      <th></th>\n",
              "      <th>origen</th>\n",
              "      <th>sector</th>\n",
              "      <th>sexo</th>\n",
              "      <th>tipo_paciente</th>\n",
              "      <th>intubado</th>\n",
              "      <th>neumonia</th>\n",
              "      <th>edad</th>\n",
              "      <th>embarazo</th>\n",
              "      <th>diabetes</th>\n",
              "      <th>epoc</th>\n",
              "      <th>...</th>\n",
              "      <th>inmusupr</th>\n",
              "      <th>hipertension</th>\n",
              "      <th>otra_com</th>\n",
              "      <th>cardiovascular</th>\n",
              "      <th>obesidad</th>\n",
              "      <th>renal_cronica</th>\n",
              "      <th>tabaquismo</th>\n",
              "      <th>otro_caso</th>\n",
              "      <th>uci</th>\n",
              "      <th>clasificacion_final</th>\n",
              "    </tr>\n",
              "  </thead>\n",
              "  <tbody>\n",
              "    <tr>\n",
              "      <th>0</th>\n",
              "      <td>0</td>\n",
              "      <td>0</td>\n",
              "      <td>1</td>\n",
              "      <td>0</td>\n",
              "      <td>0</td>\n",
              "      <td>0</td>\n",
              "      <td>58</td>\n",
              "      <td>2</td>\n",
              "      <td>1</td>\n",
              "      <td>1</td>\n",
              "      <td>...</td>\n",
              "      <td>1</td>\n",
              "      <td>1</td>\n",
              "      <td>1</td>\n",
              "      <td>1</td>\n",
              "      <td>1</td>\n",
              "      <td>1</td>\n",
              "      <td>1</td>\n",
              "      <td>2</td>\n",
              "      <td>1</td>\n",
              "      <td>6</td>\n",
              "    </tr>\n",
              "    <tr>\n",
              "      <th>1</th>\n",
              "      <td>1</td>\n",
              "      <td>1</td>\n",
              "      <td>1</td>\n",
              "      <td>0</td>\n",
              "      <td>1</td>\n",
              "      <td>0</td>\n",
              "      <td>31</td>\n",
              "      <td>2</td>\n",
              "      <td>1</td>\n",
              "      <td>1</td>\n",
              "      <td>...</td>\n",
              "      <td>1</td>\n",
              "      <td>1</td>\n",
              "      <td>1</td>\n",
              "      <td>1</td>\n",
              "      <td>1</td>\n",
              "      <td>1</td>\n",
              "      <td>1</td>\n",
              "      <td>1</td>\n",
              "      <td>1</td>\n",
              "      <td>6</td>\n",
              "    </tr>\n",
              "    <tr>\n",
              "      <th>3</th>\n",
              "      <td>0</td>\n",
              "      <td>3</td>\n",
              "      <td>0</td>\n",
              "      <td>0</td>\n",
              "      <td>1</td>\n",
              "      <td>0</td>\n",
              "      <td>34</td>\n",
              "      <td>1</td>\n",
              "      <td>1</td>\n",
              "      <td>1</td>\n",
              "      <td>...</td>\n",
              "      <td>1</td>\n",
              "      <td>1</td>\n",
              "      <td>1</td>\n",
              "      <td>1</td>\n",
              "      <td>1</td>\n",
              "      <td>1</td>\n",
              "      <td>1</td>\n",
              "      <td>1</td>\n",
              "      <td>1</td>\n",
              "      <td>6</td>\n",
              "    </tr>\n",
              "    <tr>\n",
              "      <th>6</th>\n",
              "      <td>0</td>\n",
              "      <td>2</td>\n",
              "      <td>1</td>\n",
              "      <td>0</td>\n",
              "      <td>1</td>\n",
              "      <td>1</td>\n",
              "      <td>50</td>\n",
              "      <td>2</td>\n",
              "      <td>1</td>\n",
              "      <td>1</td>\n",
              "      <td>...</td>\n",
              "      <td>1</td>\n",
              "      <td>0</td>\n",
              "      <td>1</td>\n",
              "      <td>1</td>\n",
              "      <td>1</td>\n",
              "      <td>1</td>\n",
              "      <td>1</td>\n",
              "      <td>2</td>\n",
              "      <td>1</td>\n",
              "      <td>6</td>\n",
              "    </tr>\n",
              "    <tr>\n",
              "      <th>9</th>\n",
              "      <td>1</td>\n",
              "      <td>2</td>\n",
              "      <td>1</td>\n",
              "      <td>0</td>\n",
              "      <td>1</td>\n",
              "      <td>0</td>\n",
              "      <td>59</td>\n",
              "      <td>2</td>\n",
              "      <td>0</td>\n",
              "      <td>1</td>\n",
              "      <td>...</td>\n",
              "      <td>1</td>\n",
              "      <td>0</td>\n",
              "      <td>1</td>\n",
              "      <td>1</td>\n",
              "      <td>1</td>\n",
              "      <td>1</td>\n",
              "      <td>1</td>\n",
              "      <td>2</td>\n",
              "      <td>1</td>\n",
              "      <td>6</td>\n",
              "    </tr>\n",
              "  </tbody>\n",
              "</table>\n",
              "<p>5 rows × 21 columns</p>\n",
              "</div>\n",
              "      <button class=\"colab-df-convert\" onclick=\"convertToInteractive('df-f30e779e-7f31-4ffb-b490-ef7c9dfb7e96')\"\n",
              "              title=\"Convert this dataframe to an interactive table.\"\n",
              "              style=\"display:none;\">\n",
              "        \n",
              "  <svg xmlns=\"http://www.w3.org/2000/svg\" height=\"24px\"viewBox=\"0 0 24 24\"\n",
              "       width=\"24px\">\n",
              "    <path d=\"M0 0h24v24H0V0z\" fill=\"none\"/>\n",
              "    <path d=\"M18.56 5.44l.94 2.06.94-2.06 2.06-.94-2.06-.94-.94-2.06-.94 2.06-2.06.94zm-11 1L8.5 8.5l.94-2.06 2.06-.94-2.06-.94L8.5 2.5l-.94 2.06-2.06.94zm10 10l.94 2.06.94-2.06 2.06-.94-2.06-.94-.94-2.06-.94 2.06-2.06.94z\"/><path d=\"M17.41 7.96l-1.37-1.37c-.4-.4-.92-.59-1.43-.59-.52 0-1.04.2-1.43.59L10.3 9.45l-7.72 7.72c-.78.78-.78 2.05 0 2.83L4 21.41c.39.39.9.59 1.41.59.51 0 1.02-.2 1.41-.59l7.78-7.78 2.81-2.81c.8-.78.8-2.07 0-2.86zM5.41 20L4 18.59l7.72-7.72 1.47 1.35L5.41 20z\"/>\n",
              "  </svg>\n",
              "      </button>\n",
              "      \n",
              "  <style>\n",
              "    .colab-df-container {\n",
              "      display:flex;\n",
              "      flex-wrap:wrap;\n",
              "      gap: 12px;\n",
              "    }\n",
              "\n",
              "    .colab-df-convert {\n",
              "      background-color: #E8F0FE;\n",
              "      border: none;\n",
              "      border-radius: 50%;\n",
              "      cursor: pointer;\n",
              "      display: none;\n",
              "      fill: #1967D2;\n",
              "      height: 32px;\n",
              "      padding: 0 0 0 0;\n",
              "      width: 32px;\n",
              "    }\n",
              "\n",
              "    .colab-df-convert:hover {\n",
              "      background-color: #E2EBFA;\n",
              "      box-shadow: 0px 1px 2px rgba(60, 64, 67, 0.3), 0px 1px 3px 1px rgba(60, 64, 67, 0.15);\n",
              "      fill: #174EA6;\n",
              "    }\n",
              "\n",
              "    [theme=dark] .colab-df-convert {\n",
              "      background-color: #3B4455;\n",
              "      fill: #D2E3FC;\n",
              "    }\n",
              "\n",
              "    [theme=dark] .colab-df-convert:hover {\n",
              "      background-color: #434B5C;\n",
              "      box-shadow: 0px 1px 3px 1px rgba(0, 0, 0, 0.15);\n",
              "      filter: drop-shadow(0px 1px 2px rgba(0, 0, 0, 0.3));\n",
              "      fill: #FFFFFF;\n",
              "    }\n",
              "  </style>\n",
              "\n",
              "      <script>\n",
              "        const buttonEl =\n",
              "          document.querySelector('#df-f30e779e-7f31-4ffb-b490-ef7c9dfb7e96 button.colab-df-convert');\n",
              "        buttonEl.style.display =\n",
              "          google.colab.kernel.accessAllowed ? 'block' : 'none';\n",
              "\n",
              "        async function convertToInteractive(key) {\n",
              "          const element = document.querySelector('#df-f30e779e-7f31-4ffb-b490-ef7c9dfb7e96');\n",
              "          const dataTable =\n",
              "            await google.colab.kernel.invokeFunction('convertToInteractive',\n",
              "                                                     [key], {});\n",
              "          if (!dataTable) return;\n",
              "\n",
              "          const docLinkHtml = 'Like what you see? Visit the ' +\n",
              "            '<a target=\"_blank\" href=https://colab.research.google.com/notebooks/data_table.ipynb>data table notebook</a>'\n",
              "            + ' to learn more about interactive tables.';\n",
              "          element.innerHTML = '';\n",
              "          dataTable['output_type'] = 'display_data';\n",
              "          await google.colab.output.renderOutput(dataTable, element);\n",
              "          const docLink = document.createElement('div');\n",
              "          docLink.innerHTML = docLinkHtml;\n",
              "          element.appendChild(docLink);\n",
              "        }\n",
              "      </script>\n",
              "    </div>\n",
              "  </div>\n",
              "  "
            ]
          },
          "metadata": {},
          "execution_count": 31
        }
      ],
      "source": [
        "base_de_datos_de_covid.head()"
      ]
    },
    {
      "cell_type": "markdown",
      "metadata": {
        "id": "U6sNoC_HNZfH"
      },
      "source": [
        "9. Para este modelo usaremos validación k-fold,por lo cual definiremos nuestras funciones para nuestro conjunto de entrenamiento/validación."
      ]
    },
    {
      "cell_type": "code",
      "execution_count": 32,
      "metadata": {
        "id": "Ckm2RBUKNZfH"
      },
      "outputs": [],
      "source": [
        "y = base_de_datos_de_covid['intubado'].values\n",
        "X = base_de_datos_de_covid.drop(['intubado'], axis=1)"
      ]
    },
    {
      "cell_type": "markdown",
      "metadata": {
        "id": "P7XRyQ4iNZfI"
      },
      "source": [
        "10. Vamos a crear instancias de los modelo de regresión logística, bosques aleatorios y k-vecinos más cercanos."
      ]
    },
    {
      "cell_type": "code",
      "execution_count": 33,
      "metadata": {
        "id": "1lloamvFNZfI"
      },
      "outputs": [],
      "source": [
        "clf = RandomForestClassifier(n_estimators=100, max_depth=5)\n",
        "\n",
        "knn = KNeighborsClassifier(n_neighbors=10)"
      ]
    },
    {
      "cell_type": "markdown",
      "metadata": {
        "id": "1nkNVc1ZNZfI"
      },
      "source": [
        "11. Ahora procederemos a evaluar el modelo usando validación cruzada, usando la función $model\\_ \n",
        "selection.cross\\_ val\\_ score$."
      ]
    },
    {
      "cell_type": "code",
      "execution_count": 34,
      "metadata": {
        "id": "e-mxxURcNZfL",
        "colab": {
          "base_uri": "https://localhost:8080/"
        },
        "outputId": "272d741d-7423-4377-d3c7-257d6f2868a8"
      },
      "outputs": [
        {
          "output_type": "stream",
          "name": "stdout",
          "text": [
            "Precisión de bosques aleatorios = 0.850 +/- 0.005\n",
            "Precisión de K-vecinos más cercanos = 0.818 +/- 0.004\n"
          ]
        }
      ],
      "source": [
        "# Validación cruzada con bosques aleatorios\n",
        "np.random.seed(1)\n",
        "scores_bos_a = cross_val_score(\n",
        "            estimator=clf,\n",
        "            X=X,\n",
        "            y=y,\n",
        "            cv=10)\n",
        "\n",
        "print('Precisión de bosques aleatorios = {:.3f} +/- {:.3f}'.format(scores_bos_a.mean(), scores_bos_a.std()))\n",
        "\n",
        "# Validación cruzada con K vecinos más cercanos\n",
        "scores_Knn = cross_val_score(\n",
        "            estimator=knn,\n",
        "            X=X,\n",
        "            y=y,\n",
        "            cv=10)\n",
        "\n",
        "print('Precisión de K-vecinos más cercanos = {:.3f} +/- {:.3f}'.format(scores_Knn.mean(), scores_Knn.std()))"
      ]
    },
    {
      "cell_type": "markdown",
      "metadata": {
        "id": "f0IQS2WoNZfL"
      },
      "source": [
        "11. 1.Revisemos las presiciones individuales."
      ]
    },
    {
      "cell_type": "code",
      "execution_count": 35,
      "metadata": {
        "id": "gRV66W9oNZfM",
        "colab": {
          "base_uri": "https://localhost:8080/"
        },
        "outputId": "a7d11ff2-fe53-4f05-dd22-0af605d25337"
      },
      "outputs": [
        {
          "output_type": "stream",
          "name": "stdout",
          "text": [
            "Precisión individual(Bosques aleatorios):\n",
            " [0.85510914 0.8483075  0.85099652 0.84704208 0.84783296 0.85065654\n",
            " 0.85192216 0.85888309 0.8484417  0.84084797]\n",
            "Precisión individual(K vecinos cercanos):\n",
            " [0.81493198 0.82094274 0.81777918 0.81350838 0.8198355  0.81015662\n",
            " 0.81553552 0.82265464 0.82265464 0.81806676]\n"
          ]
        }
      ],
      "source": [
        "print('Precisión individual(Bosques aleatorios):\\n',scores_bos_a)\n",
        "print('Precisión individual(K vecinos cercanos):\\n',scores_Knn)"
      ]
    },
    {
      "cell_type": "markdown",
      "metadata": {
        "id": "FATAhEkKNZfM"
      },
      "source": [
        "12. Ahora vamos a hacer curvas de validación."
      ]
    },
    {
      "cell_type": "code",
      "execution_count": 36,
      "metadata": {
        "id": "b_GXcjfgNZfM"
      },
      "outputs": [],
      "source": [
        "def plot_validation_curve(train_scores, test_scores,param_range, xlabel='', log=False):\n",
        "    '''\n",
        "    This code is from scikit-learn docs:\n",
        "    http://scikit-learn.org/stable/auto_examples/model_selection/plot_learning_curve.html\n",
        "    \n",
        "    Also here:\n",
        "    https://github.com/rasbt/python-machine-learning-book-2nd-edition/blob/master/code/ch06/ch06.ipynb\n",
        "    '''\n",
        "    train_mean = np.mean(train_scores, axis=1)\n",
        "    train_std = np.std(train_scores, axis=1)\n",
        "    test_mean = np.mean(test_scores, axis=1)\n",
        "    test_std = np.std(test_scores, axis=1)\n",
        "\n",
        "    fig = plt.figure()\n",
        "    \n",
        "    plt.plot(param_range, train_mean, \n",
        "             color=sns.color_palette('Set1')[1], marker='o', \n",
        "             markersize=5, label='Precisión de entrenamiento')\n",
        "\n",
        "    plt.fill_between(param_range, train_mean + train_std,\n",
        "                     train_mean - train_std, alpha=0.15,\n",
        "                     color=sns.color_palette('Set1')[1])\n",
        "\n",
        "    plt.plot(param_range, test_mean, \n",
        "             color=sns.color_palette('Set1')[0], linestyle='--', \n",
        "             marker='s', markersize=5, \n",
        "             label='Precisión de validación')\n",
        "\n",
        "    plt.fill_between(param_range, \n",
        "                     test_mean + test_std,\n",
        "                     test_mean - test_std, \n",
        "                     alpha=0.15, color=sns.color_palette('Set1')[0])\n",
        "\n",
        "    if log:\n",
        "        plt.xscale('log')\n",
        "    plt.legend(loc='lower right')\n",
        "    if xlabel:\n",
        "        plt.xlabel(xlabel)\n",
        "    plt.ylabel('Precisión')\n",
        "    plt.ylim()\n",
        "    return fig"
      ]
    },
    {
      "cell_type": "code",
      "execution_count": 37,
      "metadata": {
        "id": "6oQtelYqNZfN"
      },
      "outputs": [],
      "source": [
        "clf = RandomForestClassifier(n_estimators=10)\n",
        "max_depths = np.arange(3, 16, 3)\n",
        "\n",
        "train_scores_bos_a, test_scores_bos_a = validation_curve(\n",
        "            estimator=clf,\n",
        "            X=X,\n",
        "            y=y,\n",
        "            param_name='max_depth',\n",
        "            param_range=max_depths,\n",
        "            cv=10);"
      ]
    },
    {
      "cell_type": "code",
      "execution_count": 38,
      "metadata": {
        "id": "UkQuYvzkNZfN",
        "colab": {
          "base_uri": "https://localhost:8080/",
          "height": 298
        },
        "outputId": "60d4cb6b-9a47-42b6-8065-fca55ca6e783"
      },
      "outputs": [
        {
          "output_type": "execute_result",
          "data": {
            "text/plain": [
              "(0.809091793172811, 0.876324577091675)"
            ]
          },
          "metadata": {},
          "execution_count": 38
        },
        {
          "output_type": "display_data",
          "data": {
            "text/plain": [
              "<Figure size 432x288 with 1 Axes>"
            ],
            "image/png": "[encoded data removed]"
          },
          "metadata": {
            "needs_background": "light"
          }
        }
      ],
      "source": [
        "#Para bosques aleatorios\n",
        "plot_validation_curve(train_scores_bos_a, test_scores_bos_a,\n",
        "                      max_depths, xlabel='max_depth')\n",
        "plt.ylim()"
      ]
    }
  ]
}